{
 "cells": [
  {
   "cell_type": "markdown",
   "id": "f54bb065",
   "metadata": {},
   "source": [
    "# Mapa De Calor"
   ]
  },
  {
   "cell_type": "markdown",
   "id": "72256e2a",
   "metadata": {},
   "source": [
    "## Imports e Dados"
   ]
  },
  {
   "cell_type": "code",
   "execution_count": 1,
   "id": "d67a99dd",
   "metadata": {},
   "outputs": [],
   "source": [
    "# Import Bibliotecas\n",
    "import pandas as pd\n",
    "import plotly.express as px"
   ]
  },
  {
   "cell_type": "code",
   "execution_count": 5,
   "id": "f7591f30",
   "metadata": {},
   "outputs": [],
   "source": [
    "# Criando dados\n",
    "\n",
    "# Cidades\n",
    "cidades = ['Maringá', 'Londrina', 'Marialva', 'Sarandi', 'Mandaguaçu',\n",
    "          'Paiçandu']\n",
    "\n",
    "# Estado\n",
    "estado = ['Paraná'] * 6\n",
    "\n",
    "# Gerando a Latitude\n",
    "latitude = [-23.4273, -23.3045, -23.4844, -23.4446, -23.3455, -23.4567]\n",
    "\n",
    "# Gerando a Longitude\n",
    "longitude = [-51.9375, -51.1696, -51.7931, -51.8762, -52.0946, -52.0466]\n",
    "\n",
    "# Valor de Vendas\n",
    "\n",
    "vendas = [258, 237, 125, 131, 111, 123]"
   ]
  },
  {
   "cell_type": "code",
   "execution_count": 7,
   "id": "6c3487e7",
   "metadata": {},
   "outputs": [
    {
     "data": {
      "text/html": [
       "<div>\n",
       "<style scoped>\n",
       "    .dataframe tbody tr th:only-of-type {\n",
       "        vertical-align: middle;\n",
       "    }\n",
       "\n",
       "    .dataframe tbody tr th {\n",
       "        vertical-align: top;\n",
       "    }\n",
       "\n",
       "    .dataframe thead th {\n",
       "        text-align: right;\n",
       "    }\n",
       "</style>\n",
       "<table border=\"1\" class=\"dataframe\">\n",
       "  <thead>\n",
       "    <tr style=\"text-align: right;\">\n",
       "      <th></th>\n",
       "      <th>Cidade</th>\n",
       "      <th>Estado</th>\n",
       "      <th>Latitude</th>\n",
       "      <th>Longitude</th>\n",
       "      <th>Vendas</th>\n",
       "    </tr>\n",
       "  </thead>\n",
       "  <tbody>\n",
       "    <tr>\n",
       "      <th>0</th>\n",
       "      <td>Maringá</td>\n",
       "      <td>Paraná</td>\n",
       "      <td>-23.4273</td>\n",
       "      <td>-51.9375</td>\n",
       "      <td>258</td>\n",
       "    </tr>\n",
       "    <tr>\n",
       "      <th>1</th>\n",
       "      <td>Londrina</td>\n",
       "      <td>Paraná</td>\n",
       "      <td>-23.3045</td>\n",
       "      <td>-51.1696</td>\n",
       "      <td>237</td>\n",
       "    </tr>\n",
       "    <tr>\n",
       "      <th>2</th>\n",
       "      <td>Marialva</td>\n",
       "      <td>Paraná</td>\n",
       "      <td>-23.4844</td>\n",
       "      <td>-51.7931</td>\n",
       "      <td>125</td>\n",
       "    </tr>\n",
       "    <tr>\n",
       "      <th>3</th>\n",
       "      <td>Sarandi</td>\n",
       "      <td>Paraná</td>\n",
       "      <td>-23.4446</td>\n",
       "      <td>-51.8762</td>\n",
       "      <td>131</td>\n",
       "    </tr>\n",
       "    <tr>\n",
       "      <th>4</th>\n",
       "      <td>Mandaguaçu</td>\n",
       "      <td>Paraná</td>\n",
       "      <td>-23.3455</td>\n",
       "      <td>-52.0946</td>\n",
       "      <td>111</td>\n",
       "    </tr>\n",
       "    <tr>\n",
       "      <th>5</th>\n",
       "      <td>Paiçandu</td>\n",
       "      <td>Paraná</td>\n",
       "      <td>-23.4567</td>\n",
       "      <td>-52.0466</td>\n",
       "      <td>123</td>\n",
       "    </tr>\n",
       "  </tbody>\n",
       "</table>\n",
       "</div>"
      ],
      "text/plain": [
       "       Cidade  Estado  Latitude  Longitude  Vendas\n",
       "0     Maringá  Paraná  -23.4273   -51.9375     258\n",
       "1    Londrina  Paraná  -23.3045   -51.1696     237\n",
       "2    Marialva  Paraná  -23.4844   -51.7931     125\n",
       "3     Sarandi  Paraná  -23.4446   -51.8762     131\n",
       "4  Mandaguaçu  Paraná  -23.3455   -52.0946     111\n",
       "5    Paiçandu  Paraná  -23.4567   -52.0466     123"
      ]
     },
     "execution_count": 7,
     "metadata": {},
     "output_type": "execute_result"
    }
   ],
   "source": [
    "# Dicionario\n",
    "\n",
    "dicionario = {\n",
    "    'Cidade': cidades,\n",
    "    'Estado': estado,\n",
    "    'Latitude': latitude,\n",
    "    'Longitude': longitude,\n",
    "    'Vendas': vendas   \n",
    "}\n",
    "\n",
    "# Criando Dataframe\n",
    "df = pd.DataFrame(dicionario)\n",
    "\n",
    "# Visualizando Dataframe\n",
    "df"
   ]
  },
  {
   "cell_type": "code",
   "execution_count": null,
   "id": "2dbca882",
   "metadata": {},
   "outputs": [],
   "source": []
  }
 ],
 "metadata": {
  "kernelspec": {
   "display_name": "Python 3 (ipykernel)",
   "language": "python",
   "name": "python3"
  },
  "language_info": {
   "codemirror_mode": {
    "name": "ipython",
    "version": 3
   },
   "file_extension": ".py",
   "mimetype": "text/x-python",
   "name": "python",
   "nbconvert_exporter": "python",
   "pygments_lexer": "ipython3",
   "version": "3.11.5"
  }
 },
 "nbformat": 4,
 "nbformat_minor": 5
}
